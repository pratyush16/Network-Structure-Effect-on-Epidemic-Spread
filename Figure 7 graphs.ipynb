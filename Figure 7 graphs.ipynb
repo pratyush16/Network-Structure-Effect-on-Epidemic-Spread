{
 "cells": [
  {
   "cell_type": "code",
   "execution_count": 1,
   "id": "dc2d0c74",
   "metadata": {},
   "outputs": [
    {
     "data": {
      "image/png": "[encoded data removed]",
      "text/plain": [
       "<Figure size 432x288 with 1 Axes>"
      ]
     },
     "metadata": {
      "needs_background": "light"
     },
     "output_type": "display_data"
    }
   ],
   "source": [
    "import networkx as nx\n",
    "import EoN as EoN\n",
    "import matplotlib.pyplot as plt\n",
    "from collections import defaultdict\n",
    "from scipy.stats import ks_2samp\n",
    "import itertools\n",
    "import random\n",
    "\n",
    "random.seed(3)\n",
    "\n",
    "#UDD\n",
    "G = nx.configuration_model([3]*10000)\n",
    "G.remove_edges_from(nx.selfloop_edges(G))\n",
    "G = nx.Graph(G)\n",
    "\n",
    "node_attribute_dict = {node: 0.5+random.random() for node in G.nodes()}\n",
    "edge_attribute_dict = {edge: 0.5+random.random() for edge in G.edges()}\n",
    "\n",
    "nx.set_node_attributes(G, values=node_attribute_dict, name='expose2infect_weight')\n",
    "nx.set_edge_attributes(G, values=edge_attribute_dict, name='transmission_weight')\n",
    "\n",
    "N = G.order()\n",
    "H = nx.DiGraph()\n",
    "\n",
    "H.add_node('S') #This line is actually unnecessary since 'S' does not change status intrinsically\n",
    "#\n",
    "H.add_edge('E', 'I', rate = 0.5, weight_label='expose2infect_weight')\n",
    "#  The line above states that the transition from 'E' to 'I' occurs with rate\n",
    "#  0.5  times  whatever value is in the individual's attribute 'expose2infect_weight'\n",
    "#\n",
    "H.add_edge('I', 'R', rate = 0.14)\n",
    "#  The line above states that the I to 'R' transition occurs with rate 0.1\n",
    "#  and does not depend on any attribute\n",
    "\n",
    "J = nx.DiGraph()\n",
    "J.add_edge(('I', 'S'), ('I', 'E'), rate = 0.5, weight_label='transmission_weight')\n",
    "#  The line above states that an 'I' individual will cause an 'S' individual\n",
    "#  to transition to 'E' with rate equal to 0.5 times the partnership's attribute\n",
    "#  'transmission_weight'.\n",
    "\n",
    "rho = 1./N\n",
    "\n",
    "degree_dists=[[]]\n",
    "for i in range(50):\n",
    "    IC = defaultdict(lambda: 'S')\n",
    "    for node in range(10):\n",
    "        IC[node] = 'I'\n",
    "\n",
    "    return_statuses = ('S', 'E', 'I', 'R')\n",
    "\n",
    "    sim=EoN.Gillespie_simple_contagion(G, H, J, IC, return_statuses, tmax = 20, return_full_data = True)\n",
    "    degree_dists.append([sim.transmission_tree().degree(n) for n in sim.transmission_tree().nodes()])\n",
    "degree_dists.pop(0)\n",
    "pair_list = list(itertools.combinations(degree_dists,2))\n",
    "ks2s = []\n",
    "for i in range(len(pair_list)):\n",
    "    ks2s.append(ks_2samp(list(pair_list)[i][0],list(pair_list)[i][1])[1])\n",
    "plt.hist(ks2s)\n",
    "plt.xlabel(\"p-value\")\n",
    "plt.show()"
   ]
  },
  {
   "cell_type": "code",
   "execution_count": 2,
   "id": "da20cd77",
   "metadata": {},
   "outputs": [
    {
     "name": "stdout",
     "output_type": "stream",
     "text": [
      "0 1 2 3 4 5 6 7 8 9 10 11 12 13 14 15 16 17 18 19 20 21 22 23 24 25 26 27 28 29 30 31 32 33 34 35 36 37 38 39 40 41 42 43 44 45 46 47 48 49 "
     ]
    },
    {
     "data": {
      "image/png": "[encoded data removed]",
      "text/plain": [
       "<Figure size 432x288 with 1 Axes>"
      ]
     },
     "metadata": {
      "needs_background": "light"
     },
     "output_type": "display_data"
    }
   ],
   "source": [
    "random.seed(3)\n",
    "\n",
    "#PLDD\n",
    "sequence = nx.random_powerlaw_tree_sequence(10000, tries=1000000)\n",
    "G = nx.configuration_model(sequence)\n",
    "G.remove_edges_from(nx.selfloop_edges(G))\n",
    "G = nx.Graph(G)\n",
    "\n",
    "node_attribute_dict = {node: 0.5+random.random() for node in G.nodes()}\n",
    "edge_attribute_dict = {edge: 0.5+random.random() for edge in G.edges()}\n",
    "\n",
    "nx.set_node_attributes(G, values=node_attribute_dict, name='expose2infect_weight')\n",
    "nx.set_edge_attributes(G, values=edge_attribute_dict, name='transmission_weight')\n",
    "\n",
    "N = G.order()\n",
    "H = nx.DiGraph()\n",
    "\n",
    "H.add_node('S') #This line is actually unnecessary since 'S' does not change status intrinsically\n",
    "#\n",
    "H.add_edge('E', 'I', rate = 0.5, weight_label='expose2infect_weight')\n",
    "#  The line above states that the transition from 'E' to 'I' occurs with rate\n",
    "#  0.5  times  whatever value is in the individual's attribute 'expose2infect_weight'\n",
    "#\n",
    "H.add_edge('I', 'R', rate = 0.14)\n",
    "#  The line above states that the I to 'R' transition occurs with rate 0.1\n",
    "#  and does not depend on any attribute\n",
    "\n",
    "J = nx.DiGraph()\n",
    "J.add_edge(('I', 'S'), ('I', 'E'), rate = 0.5, weight_label='transmission_weight')\n",
    "#  The line above states that an 'I' individual will cause an 'S' individual\n",
    "#  to transition to 'E' with rate equal to 0.5 times the partnership's attribute\n",
    "#  'transmission_weight'.\n",
    "\n",
    "rho = 1./N\n",
    "\n",
    "degree_dists=[[]]\n",
    "for i in range(50):\n",
    "    IC = defaultdict(lambda: 'S')\n",
    "    for node in range(10):\n",
    "        IC[node] = 'I'\n",
    "\n",
    "    return_statuses = ('S', 'E', 'I', 'R')\n",
    "\n",
    "    sim=EoN.Gillespie_simple_contagion(G, H, J, IC, return_statuses, tmax = 20, return_full_data = True)\n",
    "    degree_dists.append([sim.transmission_tree().degree(n) for n in sim.transmission_tree().nodes()])\n",
    "    print(i, end=\" \")\n",
    "degree_dists.pop(0)\n",
    "pair_list = list(itertools.combinations(degree_dists,2))\n",
    "ks2s = []\n",
    "for i in range(len(pair_list)):\n",
    "    ks2s.append(ks_2samp(list(pair_list)[i][0],list(pair_list)[i][1])[1])\n",
    "plt.hist(ks2s)\n",
    "plt.xlabel(\"p-value\")\n",
    "plt.show()"
   ]
  },
  {
   "cell_type": "code",
   "execution_count": 5,
   "id": "4a764577",
   "metadata": {},
   "outputs": [
    {
     "name": "stdout",
     "output_type": "stream",
     "text": [
      "0 1 2 3 4 5 6 7 8 9 10 11 12 13 14 15 16 17 18 19 20 21 22 23 24 25 26 27 28 29 30 31 32 33 34 35 36 37 38 39 40 41 42 43 44 45 46 47 48 49 "
     ]
    },
    {
     "data": {
      "image/png": "[encoded data removed]",
      "text/plain": [
       "<Figure size 432x288 with 1 Axes>"
      ]
     },
     "metadata": {
      "needs_background": "light"
     },
     "output_type": "display_data"
    }
   ],
   "source": [
    "import numpy as np\n",
    "random.seed(3)\n",
    "\n",
    "#PDD\n",
    "sequence=[1]\n",
    "while sum(sequence)%2==1:\n",
    "    sequence = np.random.poisson(1,10000)+1\n",
    "G = nx.configuration_model(sequence)\n",
    "G.remove_edges_from(nx.selfloop_edges(G))\n",
    "G = nx.Graph(G)\n",
    "\n",
    "node_attribute_dict = {node: 0.5+random.random() for node in G.nodes()}\n",
    "edge_attribute_dict = {edge: 0.5+random.random() for edge in G.edges()}\n",
    "\n",
    "nx.set_node_attributes(G, values=node_attribute_dict, name='expose2infect_weight')\n",
    "nx.set_edge_attributes(G, values=edge_attribute_dict, name='transmission_weight')\n",
    "\n",
    "N = G.order()\n",
    "H = nx.DiGraph()\n",
    "\n",
    "H.add_node('S') #This line is actually unnecessary since 'S' does not change status intrinsically\n",
    "#\n",
    "H.add_edge('E', 'I', rate = 0.5, weight_label='expose2infect_weight')\n",
    "#  The line above states that the transition from 'E' to 'I' occurs with rate\n",
    "#  0.5  times  whatever value is in the individual's attribute 'expose2infect_weight'\n",
    "#\n",
    "H.add_edge('I', 'R', rate = 0.14)\n",
    "#  The line above states that the I to 'R' transition occurs with rate 0.1\n",
    "#  and does not depend on any attribute\n",
    "\n",
    "J = nx.DiGraph()\n",
    "J.add_edge(('I', 'S'), ('I', 'E'), rate = 0.5, weight_label='transmission_weight')\n",
    "#  The line above states that an 'I' individual will cause an 'S' individual\n",
    "#  to transition to 'E' with rate equal to 0.5 times the partnership's attribute\n",
    "#  'transmission_weight'.\n",
    "\n",
    "rho = 1./N\n",
    "\n",
    "degree_dists=[[]]\n",
    "for i in range(50):\n",
    "    IC = defaultdict(lambda: 'S')\n",
    "    for node in range(10):\n",
    "        IC[node] = 'I'\n",
    "\n",
    "    return_statuses = ('S', 'E', 'I', 'R')\n",
    "\n",
    "    sim=EoN.Gillespie_simple_contagion(G, H, J, IC, return_statuses, tmax = 60, return_full_data = True)\n",
    "    degree_dists.append([sim.transmission_tree().degree(n) for n in sim.transmission_tree().nodes()])\n",
    "    print(i, end=\" \")\n",
    "degree_dists.pop(0)\n",
    "pair_list = list(itertools.combinations(degree_dists,2))\n",
    "ks2s = []\n",
    "for i in range(len(pair_list)):\n",
    "    ks2s.append(ks_2samp(list(pair_list)[i][0],list(pair_list)[i][1])[1])\n",
    "plt.hist(ks2s)\n",
    "plt.xlabel(\"p-value\")\n",
    "plt.show()"
   ]
  },
  {
   "cell_type": "code",
   "execution_count": null,
   "id": "ce243433",
   "metadata": {},
   "outputs": [],
   "source": []
  }
 ],
 "metadata": {
  "kernelspec": {
   "display_name": "Python 3 (ipykernel)",
   "language": "python",
   "name": "python3"
  },
  "language_info": {
   "codemirror_mode": {
    "name": "ipython",
    "version": 3
   },
   "file_extension": ".py",
   "mimetype": "text/x-python",
   "name": "python",
   "nbconvert_exporter": "python",
   "pygments_lexer": "ipython3",
   "version": "3.8.5"
  }
 },
 "nbformat": 4,
 "nbformat_minor": 5
}
