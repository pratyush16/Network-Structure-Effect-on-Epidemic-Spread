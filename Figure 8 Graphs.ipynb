{
 "cells": [
  {
   "cell_type": "code",
   "execution_count": 1,
   "id": "ae20735d",
   "metadata": {},
   "outputs": [],
   "source": [
    "import networkx as nx\n",
    "import EoN as EoN\n",
    "import matplotlib.pyplot as plt\n",
    "from collections import defaultdict\n",
    "import random\n",
    "\n",
    "random.seed(3)\n",
    "\n",
    "sequence = nx.random_powerlaw_tree_sequence(10000, tries=1000000)\n",
    "G = nx.configuration_model(sequence)\n",
    "G.remove_edges_from(nx.selfloop_edges(G))\n",
    "G = nx.Graph(G)\n",
    "\n",
    "node_attribute_dict = {node: 0.5+random.random() for node in G.nodes()}\n",
    "edge_attribute_dict = {edge: 0.5+random.random() for edge in G.edges()}\n",
    "\n",
    "nx.set_node_attributes(G, values=node_attribute_dict, name='expose2infect_weight')\n",
    "nx.set_edge_attributes(G, values=edge_attribute_dict, name='transmission_weight')\n",
    "\n",
    "N = G.order()\n",
    "H = nx.DiGraph()\n",
    "\n",
    "H.add_node('S') #This line is actually unnecessary since 'S' does not change status intrinsically\n",
    "#\n",
    "H.add_edge('E', 'I', rate = 0.5, weight_label='expose2infect_weight')\n",
    "#  The line above states that the transition from 'E' to 'I' occurs with rate\n",
    "#  0.5  times  whatever value is in the individual's attribute 'expose2infect_weight'\n",
    "#\n",
    "H.add_edge('I', 'R', rate = 0.14)\n",
    "#  The line above states that the I to 'R' transition occurs with rate 0.1\n",
    "#  and does not depend on any attribute\n",
    "\n",
    "J = nx.DiGraph()\n",
    "J.add_edge(('I', 'S'), ('I', 'E'), rate = 0.5, weight_label='transmission_weight')\n",
    "#  The line above states that an 'I' individual will cause an 'S' individual\n",
    "#  to transition to 'E' with rate equal to 0.5 times the partnership's attribute\n",
    "#  'transmission_weight'.\n",
    "\n",
    "rho = 1./N\n",
    "IC = defaultdict(lambda: 'S')\n",
    "for node in range(10):\n",
    "    IC[node] = 'I'\n",
    "\n",
    "return_statuses = ('S', 'E', 'I', 'R')\n",
    "t,S,E,I,R = EoN.Gillespie_simple_contagion(G, H, J, IC, return_statuses, tmax = float('Inf'))"
   ]
  },
  {
   "cell_type": "code",
   "execution_count": 2,
   "id": "377393bf",
   "metadata": {},
   "outputs": [],
   "source": [
    "def percent_superspreaders(sim, G):\n",
    "    T = sim.transmission_tree()\n",
    "    G_num_edges = []\n",
    "    potential_superspreaders = []\n",
    "    for i in range(G.number_of_nodes()):\n",
    "        G_num_edges.append((i, G.degree(i)))\n",
    "        if (G.degree(i)>5):\n",
    "            potential_superspreaders.append((i, G.degree(i)))\n",
    "    G_num_edges.sort(key=lambda x:x[1])\n",
    "    potential_superspreaders.sort(key=lambda x:x[1])\n",
    "    \n",
    "    count = 0\n",
    "    for i in range(len(list(T.out_degree()))):\n",
    "        if list(T.out_degree())[i][1] > 5:\n",
    "            count +=1\n",
    "    return count/len(potential_superspreaders)*100"
   ]
  },
  {
   "cell_type": "code",
   "execution_count": 3,
   "id": "41a6a245",
   "metadata": {},
   "outputs": [
    {
     "name": "stdout",
     "output_type": "stream",
     "text": [
      "0 1 2 3 4 5 6 7 8 9 10 11 12 13 14 15 16 17 18 19 20 21 22 23 24 25 26 27 28 29 30 31 32 33 34 35 36 37 38 39 40 41 42 43 44 45 46 47 48 49 50 51 52 53 54 55 56 57 58 59 60 61 62 63 64 65 66 67 68 69 70 71 72 73 74 75 76 77 78 79 80 81 82 83 84 85 86 87 88 89 90 91 92 93 94 95 96 97 98 99 "
     ]
    },
    {
     "data": {
      "text/plain": [
       "(array([ 1.,  5., 17., 29., 18., 16.,  8.,  6.]),\n",
       " array([30.08595989, 31.0530086 , 32.02005731, 32.98710602, 33.95415473,\n",
       "        34.92120344, 35.88825215, 36.85530086, 37.82234957]),\n",
       " <BarContainer object of 8 artists>)"
      ]
     },
     "execution_count": 3,
     "metadata": {},
     "output_type": "execute_result"
    },
    {
     "data": {
      "image/png": "[encoded data removed]",
      "text/plain": [
       "<Figure size 432x288 with 1 Axes>"
      ]
     },
     "metadata": {
      "needs_background": "light"
     },
     "output_type": "display_data"
    }
   ],
   "source": [
    "psss = []\n",
    "for i in range(100):\n",
    "    sim = EoN.Gillespie_simple_contagion(G, H, J, IC, return_statuses, tmax = float('Inf'), return_full_data = True)\n",
    "    psss.append(percent_superspreaders(sim, G))\n",
    "    print(i, end=\" \")\n",
    "plt.hist(psss, 8)"
   ]
  },
  {
   "cell_type": "code",
   "execution_count": 6,
   "id": "fb2933b8",
   "metadata": {},
   "outputs": [],
   "source": [
    "import numpy as np\n",
    "\n",
    "random.seed(3)\n",
    "\n",
    "sequence=[1]\n",
    "while sum(sequence)%2==1:\n",
    "    sequence = np.random.poisson(1,10000)+1\n",
    "G = nx.configuration_model(sequence)\n",
    "G.remove_edges_from(nx.selfloop_edges(G))\n",
    "G = nx.Graph(G)\n",
    "\n",
    "node_attribute_dict = {node: 0.5+random.random() for node in G.nodes()}\n",
    "edge_attribute_dict = {edge: 0.5+random.random() for edge in G.edges()}\n",
    "\n",
    "nx.set_node_attributes(G, values=node_attribute_dict, name='expose2infect_weight')\n",
    "nx.set_edge_attributes(G, values=edge_attribute_dict, name='transmission_weight')\n",
    "\n",
    "N = G.order()\n",
    "H = nx.DiGraph()\n",
    "\n",
    "H.add_node('S') #This line is actually unnecessary since 'S' does not change status intrinsically\n",
    "#\n",
    "H.add_edge('E', 'I', rate = 0.5, weight_label='expose2infect_weight')\n",
    "#  The line above states that the transition from 'E' to 'I' occurs with rate\n",
    "#  0.5  times  whatever value is in the individual's attribute 'expose2infect_weight'\n",
    "#\n",
    "H.add_edge('I', 'R', rate = 0.14)\n",
    "#  The line above states that the I to 'R' transition occurs with rate 0.1\n",
    "#  and does not depend on any attribute\n",
    "\n",
    "J = nx.DiGraph()\n",
    "J.add_edge(('I', 'S'), ('I', 'E'), rate = 0.5, weight_label='transmission_weight')\n",
    "#  The line above states that an 'I' individual will cause an 'S' individual\n",
    "#  to transition to 'E' with rate equal to 0.5 times the partnership's attribute\n",
    "#  'transmission_weight'.\n",
    "\n",
    "rho = 1./N\n",
    "IC = defaultdict(lambda: 'S')\n",
    "for node in range(10):\n",
    "    IC[node] = 'I'\n",
    "\n",
    "return_statuses = ('S', 'E', 'I', 'R')\n",
    "t,S,E,I,R = EoN.Gillespie_simple_contagion(G, H, J, IC, return_statuses, tmax = float('Inf'))"
   ]
  },
  {
   "cell_type": "code",
   "execution_count": 7,
   "id": "2db4b048",
   "metadata": {},
   "outputs": [
    {
     "name": "stdout",
     "output_type": "stream",
     "text": [
      "0 1 2 3 4 5 6 7 8 9 10 11 12 13 14 15 16 17 18 19 20 21 22 23 24 25 26 27 28 29 30 31 32 33 34 35 36 37 38 39 40 41 42 43 44 45 46 47 48 49 50 51 52 53 54 55 56 57 58 59 60 61 62 63 64 65 66 67 68 69 70 71 72 73 74 75 76 77 78 79 80 81 82 83 84 85 86 87 88 89 90 91 92 93 94 95 96 97 98 99 "
     ]
    },
    {
     "data": {
      "text/plain": [
       "(array([ 8., 27.,  0., 36., 19.,  0.,  6.,  4.]),\n",
       " array([ 0.        ,  1.35869565,  2.7173913 ,  4.07608696,  5.43478261,\n",
       "         6.79347826,  8.15217391,  9.51086957, 10.86956522]),\n",
       " <BarContainer object of 8 artists>)"
      ]
     },
     "execution_count": 7,
     "metadata": {},
     "output_type": "execute_result"
    },
    {
     "data": {
      "image/png": "[encoded data removed]",
      "text/plain": [
       "<Figure size 432x288 with 1 Axes>"
      ]
     },
     "metadata": {
      "needs_background": "light"
     },
     "output_type": "display_data"
    }
   ],
   "source": [
    "psss = []\n",
    "for i in range(100):\n",
    "    sim = EoN.Gillespie_simple_contagion(G, H, J, IC, return_statuses, tmax = float('Inf'), return_full_data = True)\n",
    "    psss.append(percent_superspreaders(sim, G))\n",
    "    print(i, end=\" \")\n",
    "plt.hist(psss, 8)"
   ]
  },
  {
   "cell_type": "code",
   "execution_count": null,
   "id": "0ac7395b",
   "metadata": {},
   "outputs": [],
   "source": []
  }
 ],
 "metadata": {
  "kernelspec": {
   "display_name": "Python 3 (ipykernel)",
   "language": "python",
   "name": "python3"
  },
  "language_info": {
   "codemirror_mode": {
    "name": "ipython",
    "version": 3
   },
   "file_extension": ".py",
   "mimetype": "text/x-python",
   "name": "python",
   "nbconvert_exporter": "python",
   "pygments_lexer": "ipython3",
   "version": "3.8.5"
  }
 },
 "nbformat": 4,
 "nbformat_minor": 5
}
