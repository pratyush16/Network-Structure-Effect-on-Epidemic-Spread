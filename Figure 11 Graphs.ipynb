{
 "cells": [
  {
   "cell_type": "code",
   "execution_count": 1,
   "id": "11ae649d",
   "metadata": {},
   "outputs": [],
   "source": [
    "def tree_starts(T):\n",
    "    in_degree_zero_list = []\n",
    "    for tup in list(T.in_degree()):\n",
    "        if tup[1] == 0:\n",
    "            in_degree_zero_list.append(tup[0])\n",
    "    return in_degree_zero_list"
   ]
  },
  {
   "cell_type": "code",
   "execution_count": 2,
   "id": "f71566de",
   "metadata": {},
   "outputs": [],
   "source": [
    "def tree_lengths(T):\n",
    "    tree_lengths = []\n",
    "    for i in tree_starts(T):\n",
    "        j = 0\n",
    "        while len(list(nx.descendants_at_distance(nx.bfs_tree(T, i), i, j))) != 0:\n",
    "            j += 1\n",
    "        tree_lengths.append(j)\n",
    "    return tree_lengths"
   ]
  },
  {
   "cell_type": "code",
   "execution_count": 3,
   "id": "a173e2c0",
   "metadata": {},
   "outputs": [],
   "source": [
    "import math\n",
    "def detection(T):\n",
    "    detections = []\n",
    "    tl = tree_lengths(T)\n",
    "    ts = tree_starts(T)\n",
    "    for i in range(len(ts)):\n",
    "        j = 0\n",
    "        while len(list(nx.descendants_at_distance(T, ts[i], j))) != 0:\n",
    "            for node in nx.descendants_at_distance(T, ts[i], j):\n",
    "                x=random.random()\n",
    "                if 1/(1+math.exp(-x+j/tl[i]))>0.5:\n",
    "                    detections.append(node)\n",
    "            j += 1\n",
    "    return detections"
   ]
  },
  {
   "cell_type": "code",
   "execution_count": 4,
   "id": "07740c41",
   "metadata": {},
   "outputs": [],
   "source": [
    "#UDD\n",
    "\n",
    "import networkx as nx\n",
    "import EoN as EoN\n",
    "import matplotlib.pyplot as plt\n",
    "from collections import defaultdict\n",
    "import random\n",
    "\n",
    "random.seed(3)\n",
    "\n",
    "G = nx.configuration_model([3]*10000)\n",
    "G.remove_edges_from(nx.selfloop_edges(G))\n",
    "G = nx.Graph(G)\n",
    "\n",
    "node_attribute_dict = {node: 0.5+random.random() for node in G.nodes()}\n",
    "edge_attribute_dict = {edge: 0.5+random.random() for edge in G.edges()}\n",
    "\n",
    "nx.set_node_attributes(G, values=node_attribute_dict, name='expose2infect_weight')\n",
    "nx.set_edge_attributes(G, values=edge_attribute_dict, name='transmission_weight')\n",
    "\n",
    "N = G.order()\n",
    "H = nx.DiGraph()\n",
    "\n",
    "H.add_node('S') #This line is actually unnecessary since 'S' does not change status intrinsically\n",
    "#\n",
    "H.add_edge('E', 'I', rate = 0.5, weight_label='expose2infect_weight')\n",
    "#  The line above states that the transition from 'E' to 'I' occurs with rate\n",
    "#  0.5  times  whatever value is in the individual's attribute 'expose2infect_weight'\n",
    "#\n",
    "H.add_edge('I', 'R', rate = 0.14)\n",
    "#  The line above states that the I to 'R' transition occurs with rate 0.1\n",
    "#  and does not depend on any attribute\n",
    "\n",
    "J = nx.DiGraph()\n",
    "J.add_edge(('I', 'S'), ('I', 'E'), rate = 0.5, weight_label='transmission_weight')\n",
    "#  The line above states that an 'I' individual will cause an 'S' individual\n",
    "#  to transition to 'E' with rate equal to 0.5 times the partnership's attribute\n",
    "#  'transmission_weight'.\n",
    "\n",
    "rho = 1./N\n",
    "IC = defaultdict(lambda: 'S')\n",
    "for node in range(10):\n",
    "    IC[node] = 'I'\n",
    "\n",
    "return_statuses = ('S', 'E', 'I', 'R')\n",
    "t,S,E,I,R = EoN.Gillespie_simple_contagion(G, H, J, IC, return_statuses, tmax = float('Inf'))"
   ]
  },
  {
   "cell_type": "code",
   "execution_count": 5,
   "id": "dba98a78",
   "metadata": {},
   "outputs": [
    {
     "data": {
      "image/png": "[encoded data removed]",
      "text/plain": [
       "<Figure size 432x288 with 1 Axes>"
      ]
     },
     "metadata": {
      "needs_background": "light"
     },
     "output_type": "display_data"
    }
   ],
   "source": [
    "sim = EoN.Gillespie_simple_contagion(G, H, J, IC, return_statuses, tmax = float('Inf'), return_full_data = True)\n",
    "T = sim.transmission_tree()\n",
    "dets = detection(T)\n",
    "\n",
    "for node in list(T.nodes()):\n",
    "    if node not in dets:\n",
    "        T.remove_node(node)\n",
    "    \n",
    "degrees = [T.degree(i) for i in T.nodes()]\n",
    "\n",
    "# setup figures\n",
    "fig = plt.figure()\n",
    "ax2=fig.add_subplot()\n",
    "ax2.hist(degrees)\n",
    "ax2.set_yscale('log')\n",
    "ax2.set_xlabel(\"Degrees\")\n",
    "\n",
    "plt.show()"
   ]
  },
  {
   "cell_type": "code",
   "execution_count": 6,
   "id": "e8b1ee82",
   "metadata": {},
   "outputs": [],
   "source": [
    "#PLDD\n",
    "\n",
    "random.seed(3)\n",
    "\n",
    "sequence = nx.random_powerlaw_tree_sequence(10000, tries=1000000)\n",
    "G = nx.configuration_model(sequence)\n",
    "G.remove_edges_from(nx.selfloop_edges(G))\n",
    "G = nx.Graph(G)\n",
    "\n",
    "node_attribute_dict = {node: 0.5+random.random() for node in G.nodes()}\n",
    "edge_attribute_dict = {edge: 0.5+random.random() for edge in G.edges()}\n",
    "\n",
    "nx.set_node_attributes(G, values=node_attribute_dict, name='expose2infect_weight')\n",
    "nx.set_edge_attributes(G, values=edge_attribute_dict, name='transmission_weight')\n",
    "\n",
    "N = G.order()\n",
    "H = nx.DiGraph()\n",
    "\n",
    "H.add_node('S') #This line is actually unnecessary since 'S' does not change status intrinsically\n",
    "#\n",
    "H.add_edge('E', 'I', rate = 0.5, weight_label='expose2infect_weight')\n",
    "#  The line above states that the transition from 'E' to 'I' occurs with rate\n",
    "#  0.5  times  whatever value is in the individual's attribute 'expose2infect_weight'\n",
    "#\n",
    "H.add_edge('I', 'R', rate = 0.14)\n",
    "#  The line above states that the I to 'R' transition occurs with rate 0.1\n",
    "#  and does not depend on any attribute\n",
    "\n",
    "J = nx.DiGraph()\n",
    "J.add_edge(('I', 'S'), ('I', 'E'), rate = 0.5, weight_label='transmission_weight')\n",
    "#  The line above states that an 'I' individual will cause an 'S' individual\n",
    "#  to transition to 'E' with rate equal to 0.5 times the partnership's attribute\n",
    "#  'transmission_weight'.\n",
    "\n",
    "rho = 1./N\n",
    "IC = defaultdict(lambda: 'S')\n",
    "for node in range(10):\n",
    "    IC[node] = 'I'\n",
    "\n",
    "return_statuses = ('S', 'E', 'I', 'R')\n",
    "t,S,E,I,R = EoN.Gillespie_simple_contagion(G, H, J, IC, return_statuses, tmax = float('Inf'))"
   ]
  },
  {
   "cell_type": "code",
   "execution_count": 7,
   "id": "ac02fca3",
   "metadata": {},
   "outputs": [
    {
     "data": {
      "image/png": "[encoded data removed]",
      "text/plain": [
       "<Figure size 432x288 with 1 Axes>"
      ]
     },
     "metadata": {
      "needs_background": "light"
     },
     "output_type": "display_data"
    }
   ],
   "source": [
    "sim = EoN.Gillespie_simple_contagion(G, H, J, IC, return_statuses, tmax = float('Inf'), return_full_data = True)\n",
    "T = sim.transmission_tree()\n",
    "dets = detection(T)\n",
    "\n",
    "for node in list(T.nodes()):\n",
    "    if node not in dets:\n",
    "        T.remove_node(node)\n",
    "    \n",
    "degrees = [T.degree(i) for i in T.nodes()]\n",
    "\n",
    "# setup figures\n",
    "fig = plt.figure()\n",
    "ax2=fig.add_subplot()\n",
    "ax2.hist(degrees)\n",
    "ax2.set_yscale('log')\n",
    "ax2.set_xlabel(\"Degrees\")\n",
    "\n",
    "plt.show()"
   ]
  },
  {
   "cell_type": "code",
   "execution_count": 8,
   "id": "06e9279a",
   "metadata": {},
   "outputs": [],
   "source": [
    "import numpy as np\n",
    "random.seed(3)\n",
    "#PDD\n",
    "sequence=[1]\n",
    "while sum(sequence)%2==1:\n",
    "    sequence = np.random.poisson(1,10000)+1\n",
    "G = nx.configuration_model(sequence)\n",
    "G.remove_edges_from(nx.selfloop_edges(G))\n",
    "G = nx.Graph(G)\n",
    "\n",
    "node_attribute_dict = {node: 0.5+random.random() for node in G.nodes()}\n",
    "edge_attribute_dict = {edge: 0.5+random.random() for edge in G.edges()}\n",
    "\n",
    "nx.set_node_attributes(G, values=node_attribute_dict, name='expose2infect_weight')\n",
    "nx.set_edge_attributes(G, values=edge_attribute_dict, name='transmission_weight')\n",
    "\n",
    "N = G.order()\n",
    "H = nx.DiGraph()\n",
    "\n",
    "H.add_node('S') #This line is actually unnecessary since 'S' does not change status intrinsically\n",
    "#\n",
    "H.add_edge('E', 'I', rate = 0.5, weight_label='expose2infect_weight')\n",
    "#  The line above states that the transition from 'E' to 'I' occurs with rate\n",
    "#  0.5  times  whatever value is in the individual's attribute 'expose2infect_weight'\n",
    "#\n",
    "H.add_edge('I', 'R', rate = 0.14)\n",
    "#  The line above states that the I to 'R' transition occurs with rate 0.1\n",
    "#  and does not depend on any attribute\n",
    "\n",
    "J = nx.DiGraph()\n",
    "J.add_edge(('I', 'S'), ('I', 'E'), rate = 0.5, weight_label='transmission_weight')\n",
    "#  The line above states that an 'I' individual will cause an 'S' individual\n",
    "#  to transition to 'E' with rate equal to 0.5 times the partnership's attribute\n",
    "#  'transmission_weight'.\n",
    "\n",
    "rho = 1./N\n",
    "IC = defaultdict(lambda: 'S')\n",
    "for node in range(10):\n",
    "    IC[node] = 'I'\n",
    "\n",
    "return_statuses = ('S', 'E', 'I', 'R')\n",
    "t,S,E,I,R = EoN.Gillespie_simple_contagion(G, H, J, IC, return_statuses, tmax = float('Inf'))"
   ]
  },
  {
   "cell_type": "code",
   "execution_count": 9,
   "id": "26036ffc",
   "metadata": {},
   "outputs": [
    {
     "data": {
      "image/png": "[encoded data removed]",
      "text/plain": [
       "<Figure size 432x288 with 1 Axes>"
      ]
     },
     "metadata": {
      "needs_background": "light"
     },
     "output_type": "display_data"
    }
   ],
   "source": [
    "sim = EoN.Gillespie_simple_contagion(G, H, J, IC, return_statuses, tmax = float('Inf'), return_full_data = True)\n",
    "T = sim.transmission_tree()\n",
    "dets = detection(T)\n",
    "\n",
    "for node in list(T.nodes()):\n",
    "    if node not in dets:\n",
    "        T.remove_node(node)\n",
    "    \n",
    "degrees = [T.degree(i) for i in T.nodes()]\n",
    "\n",
    "# setup figures\n",
    "fig = plt.figure()\n",
    "ax2=fig.add_subplot()\n",
    "ax2.hist(degrees)\n",
    "ax2.set_yscale('log')\n",
    "ax2.set_xlabel(\"Degrees\")\n",
    "\n",
    "plt.show()"
   ]
  }
 ],
 "metadata": {
  "kernelspec": {
   "display_name": "Python 3 (ipykernel)",
   "language": "python",
   "name": "python3"
  },
  "language_info": {
   "codemirror_mode": {
    "name": "ipython",
    "version": 3
   },
   "file_extension": ".py",
   "mimetype": "text/x-python",
   "name": "python",
   "nbconvert_exporter": "python",
   "pygments_lexer": "ipython3",
   "version": "3.8.5"
  }
 },
 "nbformat": 4,
 "nbformat_minor": 5
}
