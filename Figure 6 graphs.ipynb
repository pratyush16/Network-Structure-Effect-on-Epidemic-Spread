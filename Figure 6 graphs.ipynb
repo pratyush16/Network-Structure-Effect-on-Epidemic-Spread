{
 "cells": [
  {
   "cell_type": "code",
   "execution_count": 1,
   "id": "5cdf5724",
   "metadata": {},
   "outputs": [],
   "source": [
    "import networkx as nx\n",
    "import EoN as EoN\n",
    "import matplotlib.pyplot as plt\n",
    "from collections import defaultdict\n",
    "import numpy as np\n",
    "import random\n",
    "\n",
    "random.seed(3)\n",
    "\n",
    "sequence=[1]\n",
    "while sum(sequence)%2==1:\n",
    "    sequence = np.random.poisson(1,10000)+1\n",
    "G = nx.configuration_model(sequence)\n",
    "G.remove_edges_from(nx.selfloop_edges(G))\n",
    "G = nx.Graph(G)\n",
    "\n",
    "node_attribute_dict = {node: 0.5+random.random() for node in G.nodes()}\n",
    "edge_attribute_dict = {edge: 0.5+random.random() for edge in G.edges()}\n",
    "\n",
    "nx.set_node_attributes(G, values=node_attribute_dict, name='expose2infect_weight')\n",
    "nx.set_edge_attributes(G, values=edge_attribute_dict, name='transmission_weight')\n",
    "\n",
    "N = G.order()\n",
    "H = nx.DiGraph()\n",
    "\n",
    "H.add_node('S') #This line is actually unnecessary since 'S' does not change status intrinsically\n",
    "#\n",
    "H.add_edge('E', 'I', rate = 0.5, weight_label='expose2infect_weight')\n",
    "#  The line above states that the transition from 'E' to 'I' occurs with rate\n",
    "#  0.5  times  whatever value is in the individual's attribute 'expose2infect_weight'\n",
    "#\n",
    "H.add_edge('I', 'R', rate = 0.14)\n",
    "#  The line above states that the I to 'R' transition occurs with rate 0.1\n",
    "#  and does not depend on any attribute\n",
    "\n",
    "J = nx.DiGraph()\n",
    "J.add_edge(('I', 'S'), ('I', 'E'), rate = 0.5, weight_label='transmission_weight')\n",
    "#  The line above states that an 'I' individual will cause an 'S' individual\n",
    "#  to transition to 'E' with rate equal to 0.5 times the partnership's attribute\n",
    "#  'transmission_weight'.\n",
    "\n",
    "rho = 1./N\n",
    "IC = defaultdict(lambda: 'S')\n",
    "for node in range(10):\n",
    "    IC[node] = 'I'\n",
    "\n",
    "return_statuses = ('S', 'E', 'I', 'R')"
   ]
  },
  {
   "cell_type": "code",
   "execution_count": 7,
   "id": "a246f6f9",
   "metadata": {},
   "outputs": [],
   "source": [
    "def plot_degree_dist(G):\n",
    "    degrees = [G.degree(n) for n in G.nodes()]\n",
    "    plt.hist(degrees)\n",
    "    plt.yscale('log')\n",
    "    plt.xlabel(\"Degree\")\n",
    "    plt.show()"
   ]
  },
  {
   "cell_type": "code",
   "execution_count": 3,
   "id": "5b492dd0",
   "metadata": {},
   "outputs": [
    {
     "data": {
      "image/png": "[encoded data removed]",
      "text/plain": [
       "<Figure size 432x288 with 1 Axes>"
      ]
     },
     "metadata": {
      "needs_background": "light"
     },
     "output_type": "display_data"
    }
   ],
   "source": [
    "sim=EoN.Gillespie_simple_contagion(G, H, J, IC, return_statuses, tmax = 60, return_full_data = True)\n",
    "degrees = [sim.transmission_tree().degree(n) for n in sim.transmission_tree().nodes()]\n",
    "\n",
    "# setup figures\n",
    "fig = plt.figure()\n",
    "ax2=fig.add_subplot()\n",
    "ax2.hist(degrees)\n",
    "ax2.set_yscale('log')\n",
    "ax2.set_xlabel(\"Degrees\")\n",
    "#ax2.set_title('Transmision Tree Degree Distribution')\n",
    "\n",
    "plt.show()"
   ]
  },
  {
   "cell_type": "code",
   "execution_count": 4,
   "id": "82dcfc00",
   "metadata": {},
   "outputs": [
    {
     "data": {
      "image/png": "[encoded data removed]",
      "text/plain": [
       "<Figure size 432x288 with 1 Axes>"
      ]
     },
     "metadata": {
      "needs_background": "light"
     },
     "output_type": "display_data"
    }
   ],
   "source": [
    "sim=EoN.Gillespie_simple_contagion(G, H, J, IC, return_statuses, tmax = 120, return_full_data = True)\n",
    "degrees = [sim.transmission_tree().degree(n) for n in sim.transmission_tree().nodes()]\n",
    "\n",
    "# setup figures\n",
    "fig = plt.figure()\n",
    "ax2=fig.add_subplot()\n",
    "ax2.hist(degrees)\n",
    "ax2.set_yscale('log')\n",
    "ax2.set_xlabel(\"Degrees\")\n",
    "#ax2.set_title('Transmision Tree Degree Distribution')\n",
    "\n",
    "plt.show()"
   ]
  },
  {
   "cell_type": "code",
   "execution_count": 5,
   "id": "a97f37cf",
   "metadata": {},
   "outputs": [
    {
     "data": {
      "image/png": "[encoded data removed]",
      "text/plain": [
       "<Figure size 432x288 with 1 Axes>"
      ]
     },
     "metadata": {
      "needs_background": "light"
     },
     "output_type": "display_data"
    }
   ],
   "source": [
    "sim=EoN.Gillespie_simple_contagion(G, H, J, IC, return_statuses, tmax = 180, return_full_data = True)\n",
    "degrees = [sim.transmission_tree().degree(n) for n in sim.transmission_tree().nodes()]\n",
    "\n",
    "# setup figures\n",
    "fig = plt.figure()\n",
    "ax2=fig.add_subplot()\n",
    "ax2.hist(degrees)\n",
    "ax2.set_yscale('log')\n",
    "ax2.set_xlabel(\"Degrees\")\n",
    "#ax2.set_title('Transmision Tree Degree Distribution')\n",
    "\n",
    "plt.show()"
   ]
  },
  {
   "cell_type": "code",
   "execution_count": 8,
   "id": "26a3a1a8",
   "metadata": {},
   "outputs": [
    {
     "data": {
      "image/png": "[encoded data removed]",
      "text/plain": [
       "<Figure size 432x288 with 1 Axes>"
      ]
     },
     "metadata": {
      "needs_background": "light"
     },
     "output_type": "display_data"
    }
   ],
   "source": [
    "plot_degree_dist(G)"
   ]
  },
  {
   "cell_type": "code",
   "execution_count": null,
   "id": "4491b890",
   "metadata": {},
   "outputs": [],
   "source": []
  }
 ],
 "metadata": {
  "kernelspec": {
   "display_name": "Python 3 (ipykernel)",
   "language": "python",
   "name": "python3"
  },
  "language_info": {
   "codemirror_mode": {
    "name": "ipython",
    "version": 3
   },
   "file_extension": ".py",
   "mimetype": "text/x-python",
   "name": "python",
   "nbconvert_exporter": "python",
   "pygments_lexer": "ipython3",
   "version": "3.8.5"
  }
 },
 "nbformat": 4,
 "nbformat_minor": 5
}
